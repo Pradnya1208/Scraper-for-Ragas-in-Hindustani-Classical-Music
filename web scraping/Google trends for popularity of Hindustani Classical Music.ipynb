{
 "cells": [
  {
   "cell_type": "code",
   "execution_count": 200,
   "metadata": {},
   "outputs": [],
   "source": [
    "import pandas as pd"
   ]
  },
  {
   "cell_type": "code",
   "execution_count": 201,
   "metadata": {},
   "outputs": [],
   "source": [
    "data = pd.read_csv(\"popularity of Indian classical music 2012-2020.csv\")"
   ]
  },
  {
   "cell_type": "code",
   "execution_count": 202,
   "metadata": {},
   "outputs": [],
   "source": [
    "data_ = data.iloc[:,:-5]\n",
    "countries = data_.columns.values[3:]\n"
   ]
  },
  {
   "cell_type": "code",
   "execution_count": 143,
   "metadata": {},
   "outputs": [],
   "source": [
    "for i in countries:\n",
    "    df=data_[[\"Week\",\"year\",i]][:495]\n",
    "    country=i+\".csv\"\n",
    "    df.to_csv(country)"
   ]
  },
  {
   "cell_type": "code",
   "execution_count": 203,
   "metadata": {},
   "outputs": [
    {
     "data": {
      "text/html": [
       "<div>\n",
       "<style scoped>\n",
       "    .dataframe tbody tr th:only-of-type {\n",
       "        vertical-align: middle;\n",
       "    }\n",
       "\n",
       "    .dataframe tbody tr th {\n",
       "        vertical-align: top;\n",
       "    }\n",
       "\n",
       "    .dataframe thead th {\n",
       "        text-align: right;\n",
       "    }\n",
       "</style>\n",
       "<table border=\"1\" class=\"dataframe\">\n",
       "  <thead>\n",
       "    <tr style=\"text-align: right;\">\n",
       "      <th></th>\n",
       "      <th>Week</th>\n",
       "      <th>year</th>\n",
       "      <th>Popularity Score</th>\n",
       "    </tr>\n",
       "  </thead>\n",
       "  <tbody>\n",
       "    <tr>\n",
       "      <th>0</th>\n",
       "      <td>05-01-2020</td>\n",
       "      <td>2020.0</td>\n",
       "      <td>63.0</td>\n",
       "    </tr>\n",
       "    <tr>\n",
       "      <th>1</th>\n",
       "      <td>12-01-2020</td>\n",
       "      <td>2020.0</td>\n",
       "      <td>15.0</td>\n",
       "    </tr>\n",
       "    <tr>\n",
       "      <th>2</th>\n",
       "      <td>19-01-2020</td>\n",
       "      <td>2020.0</td>\n",
       "      <td>32.0</td>\n",
       "    </tr>\n",
       "    <tr>\n",
       "      <th>3</th>\n",
       "      <td>26-01-2020</td>\n",
       "      <td>2020.0</td>\n",
       "      <td>62.0</td>\n",
       "    </tr>\n",
       "    <tr>\n",
       "      <th>4</th>\n",
       "      <td>02-02-2020</td>\n",
       "      <td>2020.0</td>\n",
       "      <td>31.0</td>\n",
       "    </tr>\n",
       "    <tr>\n",
       "      <th>...</th>\n",
       "      <td>...</td>\n",
       "      <td>...</td>\n",
       "      <td>...</td>\n",
       "    </tr>\n",
       "    <tr>\n",
       "      <th>490</th>\n",
       "      <td>23-05-2021</td>\n",
       "      <td>2021.0</td>\n",
       "      <td>63.0</td>\n",
       "    </tr>\n",
       "    <tr>\n",
       "      <th>491</th>\n",
       "      <td>30-05-2021</td>\n",
       "      <td>2021.0</td>\n",
       "      <td>32.0</td>\n",
       "    </tr>\n",
       "    <tr>\n",
       "      <th>492</th>\n",
       "      <td>06-06-2021</td>\n",
       "      <td>2021.0</td>\n",
       "      <td>16.0</td>\n",
       "    </tr>\n",
       "    <tr>\n",
       "      <th>493</th>\n",
       "      <td>13-06-2021</td>\n",
       "      <td>2021.0</td>\n",
       "      <td>16.0</td>\n",
       "    </tr>\n",
       "    <tr>\n",
       "      <th>494</th>\n",
       "      <td>20-06-2021</td>\n",
       "      <td>2021.0</td>\n",
       "      <td>64.0</td>\n",
       "    </tr>\n",
       "  </tbody>\n",
       "</table>\n",
       "<p>495 rows × 3 columns</p>\n",
       "</div>"
      ],
      "text/plain": [
       "           Week    year  Popularity Score\n",
       "0    05-01-2020  2020.0              63.0\n",
       "1    12-01-2020  2020.0              15.0\n",
       "2    19-01-2020  2020.0              32.0\n",
       "3    26-01-2020  2020.0              62.0\n",
       "4    02-02-2020  2020.0              31.0\n",
       "..          ...     ...               ...\n",
       "490  23-05-2021  2021.0              63.0\n",
       "491  30-05-2021  2021.0              32.0\n",
       "492  06-06-2021  2021.0              16.0\n",
       "493  13-06-2021  2021.0              16.0\n",
       "494  20-06-2021  2021.0              64.0\n",
       "\n",
       "[495 rows x 3 columns]"
      ]
     },
     "execution_count": 203,
     "metadata": {},
     "output_type": "execute_result"
    }
   ],
   "source": [
    "data1 = pd.read_csv(countries[0]+\".csv\").iloc[:,1:].rename(columns={countries[0]:\"Popularity Score\"})\n",
    "data1"
   ]
  },
  {
   "cell_type": "code",
   "execution_count": 204,
   "metadata": {},
   "outputs": [],
   "source": [
    "data_frame = df1.rename(columns={\"India\":\"Popularity Score\"})\n",
    "data_frame[\"Country\"] =\"India\"\n",
    "\n"
   ]
  },
  {
   "cell_type": "code",
   "execution_count": 205,
   "metadata": {},
   "outputs": [],
   "source": [
    "def dataframeMaker(country_name):\n",
    "    d = pd.read_csv(country_name+\".csv\").iloc[:,1:].rename(columns={country_name:\"Popularity Score\"})\n",
    "    d[\"Country\"] = country_name\n",
    "    return d"
   ]
  },
  {
   "cell_type": "code",
   "execution_count": 206,
   "metadata": {},
   "outputs": [],
   "source": [
    "df0 = dataframeMaker(countries[0])\n",
    "df1 = dataframeMaker(countries[1])\n",
    "df2 = dataframeMaker(countries[2])\n",
    "df3 = dataframeMaker(countries[3])\n",
    "df4 = dataframeMaker(countries[4])\n",
    "df5 = dataframeMaker(countries[5])\n",
    "df6 = dataframeMaker(countries[6])\n",
    "df7 = dataframeMaker(countries[7])\n",
    "df8 = dataframeMaker(countries[8])\n",
    "df9 = dataframeMaker(countries[9])\n",
    "df10 = dataframeMaker(countries[10])\n",
    "df11 = dataframeMaker(countries[11])\n",
    "df12 = dataframeMaker(countries[12])\n",
    "df13 = dataframeMaker(countries[13])\n",
    "df14 = dataframeMaker(countries[14])\n",
    "df15 = dataframeMaker(countries[15])\n",
    "df16 = dataframeMaker(countries[16])\n",
    "df17 = dataframeMaker(countries[17])\n",
    "df18 = dataframeMaker(countries[18])\n",
    "df19 = dataframeMaker(countries[19])\n",
    "df20 = dataframeMaker(countries[20])\n",
    "df21 = dataframeMaker(countries[21])\n",
    "df22 = dataframeMaker(countries[22])\n",
    "df23 = dataframeMaker(countries[23])\n",
    "df24 = dataframeMaker(countries[24])\n",
    "df25 = dataframeMaker(countries[25])\n",
    "df26 = dataframeMaker(countries[26])\n",
    "df27 = dataframeMaker(countries[27])\n",
    "\n"
   ]
  },
  {
   "cell_type": "code",
   "execution_count": 207,
   "metadata": {},
   "outputs": [],
   "source": [
    "dataframe_all = [df0,df1,df2,df3,df4,df5,df6,df7,df8,df9,df10,df11,df12,df13,df14,df15,df16,df17,df18,df19,df20,df21,df22,df23,df24,df25,df26,df27]"
   ]
  },
  {
   "cell_type": "code",
   "execution_count": 208,
   "metadata": {},
   "outputs": [],
   "source": [
    "df_all = data_frame.append(dataframe_all)"
   ]
  },
  {
   "cell_type": "code",
   "execution_count": 209,
   "metadata": {},
   "outputs": [],
   "source": [
    "df_all.to_csv(\"Popularity_of_Hindustani_Classical_Music_all.csv\")\n"
   ]
  }
 ],
 "metadata": {
  "kernelspec": {
   "display_name": "Python 3",
   "language": "python",
   "name": "python3"
  },
  "language_info": {
   "codemirror_mode": {
    "name": "ipython",
    "version": 3
   },
   "file_extension": ".py",
   "mimetype": "text/x-python",
   "name": "python",
   "nbconvert_exporter": "python",
   "pygments_lexer": "ipython3",
   "version": "3.8.5"
  }
 },
 "nbformat": 4,
 "nbformat_minor": 4
}
